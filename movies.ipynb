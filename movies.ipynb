{
 "cells": [
  {
   "cell_type": "markdown",
   "metadata": {},
   "source": [
    "<h3>Project: Investigate a Dataset (TMDb_Movies Dataset)</h3>\n",
    "\n",
    "This data set contains information about 10,000 movies collected from The Movie Database (TMDb), including user ratings, budget, cast and revenue.\n",
    "  \n",
    "For the dataset, i would like to pose the following questions\n",
    "<b><h2>Questions</h2></b>\n",
    "<ol>\n",
    "    <li>Year in which most movies were released</li>\n",
    "    <li>Popular Genre</li>\n",
    "    <li>Movie Genre by Highest/Most Vote Counts</li>\n",
    "    <li>Popular Keywords</li>\n",
    "    <li>Top-ten movies by revenue</li>\n",
    "    <li>Do Popularity depend on Runtime</li>\n",
    "    <li>Movie Runtime over the years</li>\n",
    "    <li>Popularity of Big Budget Movies</li>\n",
    "    <li>Popular Actors</li>\n",
    "</ol>"
   ]
  },
  {
   "cell_type": "markdown",
   "metadata": {},
   "source": [
    "<h3>Importing Data</h3>"
   ]
  },
  {
   "cell_type": "code",
   "execution_count": 1,
   "metadata": {},
   "outputs": [
    {
     "data": {
      "text/html": [
       "<div>\n",
       "<style scoped>\n",
       "    .dataframe tbody tr th:only-of-type {\n",
       "        vertical-align: middle;\n",
       "    }\n",
       "\n",
       "    .dataframe tbody tr th {\n",
       "        vertical-align: top;\n",
       "    }\n",
       "\n",
       "    .dataframe thead th {\n",
       "        text-align: right;\n",
       "    }\n",
       "</style>\n",
       "<table border=\"1\" class=\"dataframe\">\n",
       "  <thead>\n",
       "    <tr style=\"text-align: right;\">\n",
       "      <th></th>\n",
       "      <th>id</th>\n",
       "      <th>imdb_id</th>\n",
       "      <th>popularity</th>\n",
       "      <th>budget</th>\n",
       "      <th>revenue</th>\n",
       "      <th>original_title</th>\n",
       "      <th>cast</th>\n",
       "      <th>homepage</th>\n",
       "      <th>director</th>\n",
       "      <th>tagline</th>\n",
       "      <th>...</th>\n",
       "      <th>overview</th>\n",
       "      <th>runtime</th>\n",
       "      <th>genres</th>\n",
       "      <th>production_companies</th>\n",
       "      <th>release_date</th>\n",
       "      <th>vote_count</th>\n",
       "      <th>vote_average</th>\n",
       "      <th>release_year</th>\n",
       "      <th>budget_adj</th>\n",
       "      <th>revenue_adj</th>\n",
       "    </tr>\n",
       "  </thead>\n",
       "  <tbody>\n",
       "    <tr>\n",
       "      <th>0</th>\n",
       "      <td>135397</td>\n",
       "      <td>tt0369610</td>\n",
       "      <td>32.985763</td>\n",
       "      <td>150000000</td>\n",
       "      <td>1513528810</td>\n",
       "      <td>Jurassic World</td>\n",
       "      <td>Chris Pratt|Bryce Dallas Howard|Irrfan Khan|Vi...</td>\n",
       "      <td>http://www.jurassicworld.com/</td>\n",
       "      <td>Colin Trevorrow</td>\n",
       "      <td>The park is open.</td>\n",
       "      <td>...</td>\n",
       "      <td>Twenty-two years after the events of Jurassic ...</td>\n",
       "      <td>124</td>\n",
       "      <td>Action|Adventure|Science Fiction|Thriller</td>\n",
       "      <td>Universal Studios|Amblin Entertainment|Legenda...</td>\n",
       "      <td>6/9/15</td>\n",
       "      <td>5562</td>\n",
       "      <td>6.5</td>\n",
       "      <td>2015</td>\n",
       "      <td>1.379999e+08</td>\n",
       "      <td>1.392446e+09</td>\n",
       "    </tr>\n",
       "    <tr>\n",
       "      <th>1</th>\n",
       "      <td>76341</td>\n",
       "      <td>tt1392190</td>\n",
       "      <td>28.419936</td>\n",
       "      <td>150000000</td>\n",
       "      <td>378436354</td>\n",
       "      <td>Mad Max: Fury Road</td>\n",
       "      <td>Tom Hardy|Charlize Theron|Hugh Keays-Byrne|Nic...</td>\n",
       "      <td>http://www.madmaxmovie.com/</td>\n",
       "      <td>George Miller</td>\n",
       "      <td>What a Lovely Day.</td>\n",
       "      <td>...</td>\n",
       "      <td>An apocalyptic story set in the furthest reach...</td>\n",
       "      <td>120</td>\n",
       "      <td>Action|Adventure|Science Fiction|Thriller</td>\n",
       "      <td>Village Roadshow Pictures|Kennedy Miller Produ...</td>\n",
       "      <td>5/13/15</td>\n",
       "      <td>6185</td>\n",
       "      <td>7.1</td>\n",
       "      <td>2015</td>\n",
       "      <td>1.379999e+08</td>\n",
       "      <td>3.481613e+08</td>\n",
       "    </tr>\n",
       "    <tr>\n",
       "      <th>2</th>\n",
       "      <td>262500</td>\n",
       "      <td>tt2908446</td>\n",
       "      <td>13.112507</td>\n",
       "      <td>110000000</td>\n",
       "      <td>295238201</td>\n",
       "      <td>Insurgent</td>\n",
       "      <td>Shailene Woodley|Theo James|Kate Winslet|Ansel...</td>\n",
       "      <td>http://www.thedivergentseries.movie/#insurgent</td>\n",
       "      <td>Robert Schwentke</td>\n",
       "      <td>One Choice Can Destroy You</td>\n",
       "      <td>...</td>\n",
       "      <td>Beatrice Prior must confront her inner demons ...</td>\n",
       "      <td>119</td>\n",
       "      <td>Adventure|Science Fiction|Thriller</td>\n",
       "      <td>Summit Entertainment|Mandeville Films|Red Wago...</td>\n",
       "      <td>3/18/15</td>\n",
       "      <td>2480</td>\n",
       "      <td>6.3</td>\n",
       "      <td>2015</td>\n",
       "      <td>1.012000e+08</td>\n",
       "      <td>2.716190e+08</td>\n",
       "    </tr>\n",
       "    <tr>\n",
       "      <th>3</th>\n",
       "      <td>140607</td>\n",
       "      <td>tt2488496</td>\n",
       "      <td>11.173104</td>\n",
       "      <td>200000000</td>\n",
       "      <td>2068178225</td>\n",
       "      <td>Star Wars: The Force Awakens</td>\n",
       "      <td>Harrison Ford|Mark Hamill|Carrie Fisher|Adam D...</td>\n",
       "      <td>http://www.starwars.com/films/star-wars-episod...</td>\n",
       "      <td>J.J. Abrams</td>\n",
       "      <td>Every generation has a story.</td>\n",
       "      <td>...</td>\n",
       "      <td>Thirty years after defeating the Galactic Empi...</td>\n",
       "      <td>136</td>\n",
       "      <td>Action|Adventure|Science Fiction|Fantasy</td>\n",
       "      <td>Lucasfilm|Truenorth Productions|Bad Robot</td>\n",
       "      <td>12/15/15</td>\n",
       "      <td>5292</td>\n",
       "      <td>7.5</td>\n",
       "      <td>2015</td>\n",
       "      <td>1.839999e+08</td>\n",
       "      <td>1.902723e+09</td>\n",
       "    </tr>\n",
       "    <tr>\n",
       "      <th>4</th>\n",
       "      <td>168259</td>\n",
       "      <td>tt2820852</td>\n",
       "      <td>9.335014</td>\n",
       "      <td>190000000</td>\n",
       "      <td>1506249360</td>\n",
       "      <td>Furious 7</td>\n",
       "      <td>Vin Diesel|Paul Walker|Jason Statham|Michelle ...</td>\n",
       "      <td>http://www.furious7.com/</td>\n",
       "      <td>James Wan</td>\n",
       "      <td>Vengeance Hits Home</td>\n",
       "      <td>...</td>\n",
       "      <td>Deckard Shaw seeks revenge against Dominic Tor...</td>\n",
       "      <td>137</td>\n",
       "      <td>Action|Crime|Thriller</td>\n",
       "      <td>Universal Pictures|Original Film|Media Rights ...</td>\n",
       "      <td>4/1/15</td>\n",
       "      <td>2947</td>\n",
       "      <td>7.3</td>\n",
       "      <td>2015</td>\n",
       "      <td>1.747999e+08</td>\n",
       "      <td>1.385749e+09</td>\n",
       "    </tr>\n",
       "  </tbody>\n",
       "</table>\n",
       "<p>5 rows × 21 columns</p>\n",
       "</div>"
      ],
      "text/plain": [
       "       id    imdb_id  popularity     budget     revenue  \\\n",
       "0  135397  tt0369610   32.985763  150000000  1513528810   \n",
       "1   76341  tt1392190   28.419936  150000000   378436354   \n",
       "2  262500  tt2908446   13.112507  110000000   295238201   \n",
       "3  140607  tt2488496   11.173104  200000000  2068178225   \n",
       "4  168259  tt2820852    9.335014  190000000  1506249360   \n",
       "\n",
       "                 original_title  \\\n",
       "0                Jurassic World   \n",
       "1            Mad Max: Fury Road   \n",
       "2                     Insurgent   \n",
       "3  Star Wars: The Force Awakens   \n",
       "4                     Furious 7   \n",
       "\n",
       "                                                cast  \\\n",
       "0  Chris Pratt|Bryce Dallas Howard|Irrfan Khan|Vi...   \n",
       "1  Tom Hardy|Charlize Theron|Hugh Keays-Byrne|Nic...   \n",
       "2  Shailene Woodley|Theo James|Kate Winslet|Ansel...   \n",
       "3  Harrison Ford|Mark Hamill|Carrie Fisher|Adam D...   \n",
       "4  Vin Diesel|Paul Walker|Jason Statham|Michelle ...   \n",
       "\n",
       "                                            homepage          director  \\\n",
       "0                      http://www.jurassicworld.com/   Colin Trevorrow   \n",
       "1                        http://www.madmaxmovie.com/     George Miller   \n",
       "2     http://www.thedivergentseries.movie/#insurgent  Robert Schwentke   \n",
       "3  http://www.starwars.com/films/star-wars-episod...       J.J. Abrams   \n",
       "4                           http://www.furious7.com/         James Wan   \n",
       "\n",
       "                         tagline  ...  \\\n",
       "0              The park is open.  ...   \n",
       "1             What a Lovely Day.  ...   \n",
       "2     One Choice Can Destroy You  ...   \n",
       "3  Every generation has a story.  ...   \n",
       "4            Vengeance Hits Home  ...   \n",
       "\n",
       "                                            overview runtime  \\\n",
       "0  Twenty-two years after the events of Jurassic ...     124   \n",
       "1  An apocalyptic story set in the furthest reach...     120   \n",
       "2  Beatrice Prior must confront her inner demons ...     119   \n",
       "3  Thirty years after defeating the Galactic Empi...     136   \n",
       "4  Deckard Shaw seeks revenge against Dominic Tor...     137   \n",
       "\n",
       "                                      genres  \\\n",
       "0  Action|Adventure|Science Fiction|Thriller   \n",
       "1  Action|Adventure|Science Fiction|Thriller   \n",
       "2         Adventure|Science Fiction|Thriller   \n",
       "3   Action|Adventure|Science Fiction|Fantasy   \n",
       "4                      Action|Crime|Thriller   \n",
       "\n",
       "                                production_companies release_date vote_count  \\\n",
       "0  Universal Studios|Amblin Entertainment|Legenda...       6/9/15       5562   \n",
       "1  Village Roadshow Pictures|Kennedy Miller Produ...      5/13/15       6185   \n",
       "2  Summit Entertainment|Mandeville Films|Red Wago...      3/18/15       2480   \n",
       "3          Lucasfilm|Truenorth Productions|Bad Robot     12/15/15       5292   \n",
       "4  Universal Pictures|Original Film|Media Rights ...       4/1/15       2947   \n",
       "\n",
       "   vote_average  release_year    budget_adj   revenue_adj  \n",
       "0           6.5          2015  1.379999e+08  1.392446e+09  \n",
       "1           7.1          2015  1.379999e+08  3.481613e+08  \n",
       "2           6.3          2015  1.012000e+08  2.716190e+08  \n",
       "3           7.5          2015  1.839999e+08  1.902723e+09  \n",
       "4           7.3          2015  1.747999e+08  1.385749e+09  \n",
       "\n",
       "[5 rows x 21 columns]"
      ]
     },
     "execution_count": 1,
     "metadata": {},
     "output_type": "execute_result"
    }
   ],
   "source": [
    "import numpy as np\n",
    "import pandas as pd\n",
    "import matplotlib.pyplot as plt\n",
    "import seaborn as sns\n",
    "%matplotlib inline\n",
    "\n",
    "movie = pd.read_csv('tmdb-movies.csv')\n",
    "movie.head()"
   ]
  },
  {
   "cell_type": "markdown",
   "metadata": {},
   "source": [
    "<h3>Cleaning Data</h3>"
   ]
  },
  {
   "cell_type": "code",
   "execution_count": 2,
   "metadata": {},
   "outputs": [
    {
     "data": {
      "text/plain": [
       "(10866, 21)"
      ]
     },
     "execution_count": 2,
     "metadata": {},
     "output_type": "execute_result"
    }
   ],
   "source": [
    "movie.shape"
   ]
  },
  {
   "cell_type": "code",
   "execution_count": 3,
   "metadata": {},
   "outputs": [
    {
     "name": "stdout",
     "output_type": "stream",
     "text": [
      "<class 'pandas.core.frame.DataFrame'>\n",
      "RangeIndex: 10866 entries, 0 to 10865\n",
      "Data columns (total 21 columns):\n",
      "id                      10866 non-null int64\n",
      "imdb_id                 10856 non-null object\n",
      "popularity              10866 non-null float64\n",
      "budget                  10866 non-null int64\n",
      "revenue                 10866 non-null int64\n",
      "original_title          10866 non-null object\n",
      "cast                    10790 non-null object\n",
      "homepage                2936 non-null object\n",
      "director                10822 non-null object\n",
      "tagline                 8042 non-null object\n",
      "keywords                9373 non-null object\n",
      "overview                10862 non-null object\n",
      "runtime                 10866 non-null int64\n",
      "genres                  10843 non-null object\n",
      "production_companies    9836 non-null object\n",
      "release_date            10866 non-null object\n",
      "vote_count              10866 non-null int64\n",
      "vote_average            10866 non-null float64\n",
      "release_year            10866 non-null int64\n",
      "budget_adj              10866 non-null float64\n",
      "revenue_adj             10866 non-null float64\n",
      "dtypes: float64(4), int64(6), object(11)\n",
      "memory usage: 1.7+ MB\n"
     ]
    }
   ],
   "source": [
    "movie.info()"
   ]
  },
  {
   "cell_type": "code",
   "execution_count": 4,
   "metadata": {},
   "outputs": [],
   "source": [
    "#drop columns not needed for analysis\n",
    "movie.drop(['id', 'imdb_id', 'homepage', 'tagline', 'overview', 'budget_adj', 'revenue_adj'], axis=1, inplace=True)"
   ]
  },
  {
   "cell_type": "code",
   "execution_count": 5,
   "metadata": {},
   "outputs": [
    {
     "name": "stdout",
     "output_type": "stream",
     "text": [
      "<class 'pandas.core.frame.DataFrame'>\n",
      "RangeIndex: 10866 entries, 0 to 10865\n",
      "Data columns (total 14 columns):\n",
      "popularity              10866 non-null float64\n",
      "budget                  10866 non-null int64\n",
      "revenue                 10866 non-null int64\n",
      "original_title          10866 non-null object\n",
      "cast                    10790 non-null object\n",
      "director                10822 non-null object\n",
      "keywords                9373 non-null object\n",
      "runtime                 10866 non-null int64\n",
      "genres                  10843 non-null object\n",
      "production_companies    9836 non-null object\n",
      "release_date            10866 non-null object\n",
      "vote_count              10866 non-null int64\n",
      "vote_average            10866 non-null float64\n",
      "release_year            10866 non-null int64\n",
      "dtypes: float64(2), int64(5), object(7)\n",
      "memory usage: 1.2+ MB\n"
     ]
    }
   ],
   "source": [
    "movie.info()"
   ]
  },
  {
   "cell_type": "code",
   "execution_count": 6,
   "metadata": {},
   "outputs": [
    {
     "data": {
      "text/html": [
       "<div>\n",
       "<style scoped>\n",
       "    .dataframe tbody tr th:only-of-type {\n",
       "        vertical-align: middle;\n",
       "    }\n",
       "\n",
       "    .dataframe tbody tr th {\n",
       "        vertical-align: top;\n",
       "    }\n",
       "\n",
       "    .dataframe thead th {\n",
       "        text-align: right;\n",
       "    }\n",
       "</style>\n",
       "<table border=\"1\" class=\"dataframe\">\n",
       "  <thead>\n",
       "    <tr style=\"text-align: right;\">\n",
       "      <th></th>\n",
       "      <th>popularity</th>\n",
       "      <th>budget</th>\n",
       "      <th>revenue</th>\n",
       "      <th>runtime</th>\n",
       "      <th>vote_count</th>\n",
       "      <th>vote_average</th>\n",
       "      <th>release_year</th>\n",
       "    </tr>\n",
       "  </thead>\n",
       "  <tbody>\n",
       "    <tr>\n",
       "      <th>count</th>\n",
       "      <td>10866.000000</td>\n",
       "      <td>1.086600e+04</td>\n",
       "      <td>1.086600e+04</td>\n",
       "      <td>10866.000000</td>\n",
       "      <td>10866.000000</td>\n",
       "      <td>10866.000000</td>\n",
       "      <td>10866.000000</td>\n",
       "    </tr>\n",
       "    <tr>\n",
       "      <th>mean</th>\n",
       "      <td>0.646441</td>\n",
       "      <td>1.462570e+07</td>\n",
       "      <td>3.982332e+07</td>\n",
       "      <td>102.070863</td>\n",
       "      <td>217.389748</td>\n",
       "      <td>5.974922</td>\n",
       "      <td>2001.322658</td>\n",
       "    </tr>\n",
       "    <tr>\n",
       "      <th>std</th>\n",
       "      <td>1.000185</td>\n",
       "      <td>3.091321e+07</td>\n",
       "      <td>1.170035e+08</td>\n",
       "      <td>31.381405</td>\n",
       "      <td>575.619058</td>\n",
       "      <td>0.935142</td>\n",
       "      <td>12.812941</td>\n",
       "    </tr>\n",
       "    <tr>\n",
       "      <th>min</th>\n",
       "      <td>0.000065</td>\n",
       "      <td>0.000000e+00</td>\n",
       "      <td>0.000000e+00</td>\n",
       "      <td>0.000000</td>\n",
       "      <td>10.000000</td>\n",
       "      <td>1.500000</td>\n",
       "      <td>1960.000000</td>\n",
       "    </tr>\n",
       "    <tr>\n",
       "      <th>25%</th>\n",
       "      <td>0.207583</td>\n",
       "      <td>0.000000e+00</td>\n",
       "      <td>0.000000e+00</td>\n",
       "      <td>90.000000</td>\n",
       "      <td>17.000000</td>\n",
       "      <td>5.400000</td>\n",
       "      <td>1995.000000</td>\n",
       "    </tr>\n",
       "    <tr>\n",
       "      <th>50%</th>\n",
       "      <td>0.383856</td>\n",
       "      <td>0.000000e+00</td>\n",
       "      <td>0.000000e+00</td>\n",
       "      <td>99.000000</td>\n",
       "      <td>38.000000</td>\n",
       "      <td>6.000000</td>\n",
       "      <td>2006.000000</td>\n",
       "    </tr>\n",
       "    <tr>\n",
       "      <th>75%</th>\n",
       "      <td>0.713817</td>\n",
       "      <td>1.500000e+07</td>\n",
       "      <td>2.400000e+07</td>\n",
       "      <td>111.000000</td>\n",
       "      <td>145.750000</td>\n",
       "      <td>6.600000</td>\n",
       "      <td>2011.000000</td>\n",
       "    </tr>\n",
       "    <tr>\n",
       "      <th>max</th>\n",
       "      <td>32.985763</td>\n",
       "      <td>4.250000e+08</td>\n",
       "      <td>2.781506e+09</td>\n",
       "      <td>900.000000</td>\n",
       "      <td>9767.000000</td>\n",
       "      <td>9.200000</td>\n",
       "      <td>2015.000000</td>\n",
       "    </tr>\n",
       "  </tbody>\n",
       "</table>\n",
       "</div>"
      ],
      "text/plain": [
       "         popularity        budget       revenue       runtime    vote_count  \\\n",
       "count  10866.000000  1.086600e+04  1.086600e+04  10866.000000  10866.000000   \n",
       "mean       0.646441  1.462570e+07  3.982332e+07    102.070863    217.389748   \n",
       "std        1.000185  3.091321e+07  1.170035e+08     31.381405    575.619058   \n",
       "min        0.000065  0.000000e+00  0.000000e+00      0.000000     10.000000   \n",
       "25%        0.207583  0.000000e+00  0.000000e+00     90.000000     17.000000   \n",
       "50%        0.383856  0.000000e+00  0.000000e+00     99.000000     38.000000   \n",
       "75%        0.713817  1.500000e+07  2.400000e+07    111.000000    145.750000   \n",
       "max       32.985763  4.250000e+08  2.781506e+09    900.000000   9767.000000   \n",
       "\n",
       "       vote_average  release_year  \n",
       "count  10866.000000  10866.000000  \n",
       "mean       5.974922   2001.322658  \n",
       "std        0.935142     12.812941  \n",
       "min        1.500000   1960.000000  \n",
       "25%        5.400000   1995.000000  \n",
       "50%        6.000000   2006.000000  \n",
       "75%        6.600000   2011.000000  \n",
       "max        9.200000   2015.000000  "
      ]
     },
     "execution_count": 6,
     "metadata": {},
     "output_type": "execute_result"
    }
   ],
   "source": [
    "movie.describe()"
   ]
  },
  {
   "cell_type": "code",
   "execution_count": 7,
   "metadata": {},
   "outputs": [
    {
     "data": {
      "image/png": "[encoded data removed]",
      "text/plain": [
       "<Figure size 1440x1440 with 9 Axes>"
      ]
     },
     "metadata": {
      "needs_background": "light"
     },
     "output_type": "display_data"
    }
   ],
   "source": [
    "movie.hist(figsize=(20,20));"
   ]
  },
  {
   "cell_type": "code",
   "execution_count": 8,
   "metadata": {},
   "outputs": [],
   "source": [
    "#split genre, cast, production_companies & keywords\n",
    "movie['genre'] = movie['genres'].str.split('|', expand=True)[0]\n",
    "movie['genres'] = movie['genres'].str.replace('|',',')\n",
    "\n",
    "movie['actor'] = movie['cast'].str.split('|', expand=True)[0]\n",
    "movie['actor'] = movie['cast'].str.replace('|',',')\n",
    "\n",
    "movie['keyword'] = movie['keywords'].str.split('|', expand=True)[0]\n",
    "movie['keyword'] = movie['keywords'].str.replace('|',',')\n",
    "\n",
    "movie['production_companies'] = movie['production_companies'].str.split('|', expand=True)[0]"
   ]
  },
  {
   "cell_type": "code",
   "execution_count": 9,
   "metadata": {},
   "outputs": [],
   "source": [
    "# convert budget & revenue value to billion\n",
    "movie['budget'] = movie['budget']/100000000\n",
    "movie['revenue'] = movie['revenue']/100000000"
   ]
  },
  {
   "cell_type": "code",
   "execution_count": 10,
   "metadata": {},
   "outputs": [],
   "source": [
    "# rename budget & revenue columns\n",
    "movie = movie.rename(columns={'budget': 'budget_in_billion', 'revenue': 'revenue_in_billion'})"
   ]
  },
  {
   "cell_type": "code",
   "execution_count": 11,
   "metadata": {
    "scrolled": false
   },
   "outputs": [
    {
     "data": {
      "text/html": [
       "<div>\n",
       "<style scoped>\n",
       "    .dataframe tbody tr th:only-of-type {\n",
       "        vertical-align: middle;\n",
       "    }\n",
       "\n",
       "    .dataframe tbody tr th {\n",
       "        vertical-align: top;\n",
       "    }\n",
       "\n",
       "    .dataframe thead th {\n",
       "        text-align: right;\n",
       "    }\n",
       "</style>\n",
       "<table border=\"1\" class=\"dataframe\">\n",
       "  <thead>\n",
       "    <tr style=\"text-align: right;\">\n",
       "      <th></th>\n",
       "      <th>popularity</th>\n",
       "      <th>budget_in_billion</th>\n",
       "      <th>revenue_in_billion</th>\n",
       "      <th>original_title</th>\n",
       "      <th>cast</th>\n",
       "      <th>director</th>\n",
       "      <th>keywords</th>\n",
       "      <th>runtime</th>\n",
       "      <th>genres</th>\n",
       "      <th>production_companies</th>\n",
       "      <th>release_date</th>\n",
       "      <th>vote_count</th>\n",
       "      <th>vote_average</th>\n",
       "      <th>release_year</th>\n",
       "      <th>genre</th>\n",
       "      <th>actor</th>\n",
       "      <th>keyword</th>\n",
       "    </tr>\n",
       "  </thead>\n",
       "  <tbody>\n",
       "    <tr>\n",
       "      <th>0</th>\n",
       "      <td>32.985763</td>\n",
       "      <td>1.5</td>\n",
       "      <td>15.135288</td>\n",
       "      <td>Jurassic World</td>\n",
       "      <td>Chris Pratt|Bryce Dallas Howard|Irrfan Khan|Vi...</td>\n",
       "      <td>Colin Trevorrow</td>\n",
       "      <td>monster|dna|tyrannosaurus rex|velociraptor|island</td>\n",
       "      <td>124</td>\n",
       "      <td>Action,Adventure,Science Fiction,Thriller</td>\n",
       "      <td>Universal Studios</td>\n",
       "      <td>6/9/15</td>\n",
       "      <td>5562</td>\n",
       "      <td>6.5</td>\n",
       "      <td>2015</td>\n",
       "      <td>Action</td>\n",
       "      <td>Chris Pratt,Bryce Dallas Howard,Irrfan Khan,Vi...</td>\n",
       "      <td>monster,dna,tyrannosaurus rex,velociraptor,island</td>\n",
       "    </tr>\n",
       "    <tr>\n",
       "      <th>1</th>\n",
       "      <td>28.419936</td>\n",
       "      <td>1.5</td>\n",
       "      <td>3.784364</td>\n",
       "      <td>Mad Max: Fury Road</td>\n",
       "      <td>Tom Hardy|Charlize Theron|Hugh Keays-Byrne|Nic...</td>\n",
       "      <td>George Miller</td>\n",
       "      <td>future|chase|post-apocalyptic|dystopia|australia</td>\n",
       "      <td>120</td>\n",
       "      <td>Action,Adventure,Science Fiction,Thriller</td>\n",
       "      <td>Village Roadshow Pictures</td>\n",
       "      <td>5/13/15</td>\n",
       "      <td>6185</td>\n",
       "      <td>7.1</td>\n",
       "      <td>2015</td>\n",
       "      <td>Action</td>\n",
       "      <td>Tom Hardy,Charlize Theron,Hugh Keays-Byrne,Nic...</td>\n",
       "      <td>future,chase,post-apocalyptic,dystopia,australia</td>\n",
       "    </tr>\n",
       "    <tr>\n",
       "      <th>2</th>\n",
       "      <td>13.112507</td>\n",
       "      <td>1.1</td>\n",
       "      <td>2.952382</td>\n",
       "      <td>Insurgent</td>\n",
       "      <td>Shailene Woodley|Theo James|Kate Winslet|Ansel...</td>\n",
       "      <td>Robert Schwentke</td>\n",
       "      <td>based on novel|revolution|dystopia|sequel|dyst...</td>\n",
       "      <td>119</td>\n",
       "      <td>Adventure,Science Fiction,Thriller</td>\n",
       "      <td>Summit Entertainment</td>\n",
       "      <td>3/18/15</td>\n",
       "      <td>2480</td>\n",
       "      <td>6.3</td>\n",
       "      <td>2015</td>\n",
       "      <td>Adventure</td>\n",
       "      <td>Shailene Woodley,Theo James,Kate Winslet,Ansel...</td>\n",
       "      <td>based on novel,revolution,dystopia,sequel,dyst...</td>\n",
       "    </tr>\n",
       "    <tr>\n",
       "      <th>3</th>\n",
       "      <td>11.173104</td>\n",
       "      <td>2.0</td>\n",
       "      <td>20.681782</td>\n",
       "      <td>Star Wars: The Force Awakens</td>\n",
       "      <td>Harrison Ford|Mark Hamill|Carrie Fisher|Adam D...</td>\n",
       "      <td>J.J. Abrams</td>\n",
       "      <td>android|spaceship|jedi|space opera|3d</td>\n",
       "      <td>136</td>\n",
       "      <td>Action,Adventure,Science Fiction,Fantasy</td>\n",
       "      <td>Lucasfilm</td>\n",
       "      <td>12/15/15</td>\n",
       "      <td>5292</td>\n",
       "      <td>7.5</td>\n",
       "      <td>2015</td>\n",
       "      <td>Action</td>\n",
       "      <td>Harrison Ford,Mark Hamill,Carrie Fisher,Adam D...</td>\n",
       "      <td>android,spaceship,jedi,space opera,3d</td>\n",
       "    </tr>\n",
       "    <tr>\n",
       "      <th>4</th>\n",
       "      <td>9.335014</td>\n",
       "      <td>1.9</td>\n",
       "      <td>15.062494</td>\n",
       "      <td>Furious 7</td>\n",
       "      <td>Vin Diesel|Paul Walker|Jason Statham|Michelle ...</td>\n",
       "      <td>James Wan</td>\n",
       "      <td>car race|speed|revenge|suspense|car</td>\n",
       "      <td>137</td>\n",
       "      <td>Action,Crime,Thriller</td>\n",
       "      <td>Universal Pictures</td>\n",
       "      <td>4/1/15</td>\n",
       "      <td>2947</td>\n",
       "      <td>7.3</td>\n",
       "      <td>2015</td>\n",
       "      <td>Action</td>\n",
       "      <td>Vin Diesel,Paul Walker,Jason Statham,Michelle ...</td>\n",
       "      <td>car race,speed,revenge,suspense,car</td>\n",
       "    </tr>\n",
       "  </tbody>\n",
       "</table>\n",
       "</div>"
      ],
      "text/plain": [
       "   popularity  budget_in_billion  revenue_in_billion  \\\n",
       "0   32.985763                1.5           15.135288   \n",
       "1   28.419936                1.5            3.784364   \n",
       "2   13.112507                1.1            2.952382   \n",
       "3   11.173104                2.0           20.681782   \n",
       "4    9.335014                1.9           15.062494   \n",
       "\n",
       "                 original_title  \\\n",
       "0                Jurassic World   \n",
       "1            Mad Max: Fury Road   \n",
       "2                     Insurgent   \n",
       "3  Star Wars: The Force Awakens   \n",
       "4                     Furious 7   \n",
       "\n",
       "                                                cast          director  \\\n",
       "0  Chris Pratt|Bryce Dallas Howard|Irrfan Khan|Vi...   Colin Trevorrow   \n",
       "1  Tom Hardy|Charlize Theron|Hugh Keays-Byrne|Nic...     George Miller   \n",
       "2  Shailene Woodley|Theo James|Kate Winslet|Ansel...  Robert Schwentke   \n",
       "3  Harrison Ford|Mark Hamill|Carrie Fisher|Adam D...       J.J. Abrams   \n",
       "4  Vin Diesel|Paul Walker|Jason Statham|Michelle ...         James Wan   \n",
       "\n",
       "                                            keywords  runtime  \\\n",
       "0  monster|dna|tyrannosaurus rex|velociraptor|island      124   \n",
       "1   future|chase|post-apocalyptic|dystopia|australia      120   \n",
       "2  based on novel|revolution|dystopia|sequel|dyst...      119   \n",
       "3              android|spaceship|jedi|space opera|3d      136   \n",
       "4                car race|speed|revenge|suspense|car      137   \n",
       "\n",
       "                                      genres       production_companies  \\\n",
       "0  Action,Adventure,Science Fiction,Thriller          Universal Studios   \n",
       "1  Action,Adventure,Science Fiction,Thriller  Village Roadshow Pictures   \n",
       "2         Adventure,Science Fiction,Thriller       Summit Entertainment   \n",
       "3   Action,Adventure,Science Fiction,Fantasy                  Lucasfilm   \n",
       "4                      Action,Crime,Thriller         Universal Pictures   \n",
       "\n",
       "  release_date  vote_count  vote_average  release_year      genre  \\\n",
       "0       6/9/15        5562           6.5          2015     Action   \n",
       "1      5/13/15        6185           7.1          2015     Action   \n",
       "2      3/18/15        2480           6.3          2015  Adventure   \n",
       "3     12/15/15        5292           7.5          2015     Action   \n",
       "4       4/1/15        2947           7.3          2015     Action   \n",
       "\n",
       "                                               actor  \\\n",
       "0  Chris Pratt,Bryce Dallas Howard,Irrfan Khan,Vi...   \n",
       "1  Tom Hardy,Charlize Theron,Hugh Keays-Byrne,Nic...   \n",
       "2  Shailene Woodley,Theo James,Kate Winslet,Ansel...   \n",
       "3  Harrison Ford,Mark Hamill,Carrie Fisher,Adam D...   \n",
       "4  Vin Diesel,Paul Walker,Jason Statham,Michelle ...   \n",
       "\n",
       "                                             keyword  \n",
       "0  monster,dna,tyrannosaurus rex,velociraptor,island  \n",
       "1   future,chase,post-apocalyptic,dystopia,australia  \n",
       "2  based on novel,revolution,dystopia,sequel,dyst...  \n",
       "3              android,spaceship,jedi,space opera,3d  \n",
       "4                car race,speed,revenge,suspense,car  "
      ]
     },
     "execution_count": 11,
     "metadata": {},
     "output_type": "execute_result"
    }
   ],
   "source": [
    "movie.head()"
   ]
  },
  {
   "cell_type": "markdown",
   "metadata": {},
   "source": [
    "<h3>Exploration Phase</h3>"
   ]
  },
  {
   "cell_type": "markdown",
   "metadata": {},
   "source": [
    "<b><h3>Year in which most movies were released.</h3></b>"
   ]
  },
  {
   "cell_type": "code",
   "execution_count": 12,
   "metadata": {},
   "outputs": [
    {
     "data": {
      "image/png": "[encoded data removed]",
      "text/plain": [
       "<Figure size 1800x1080 with 1 Axes>"
      ]
     },
     "metadata": {
      "needs_background": "light"
     },
     "output_type": "display_data"
    }
   ],
   "source": [
    "plt.figure(figsize=(25, 15))\n",
    "sns.countplot(x='release_year', data=movie)\n",
    "plt.show()"
   ]
  },
  {
   "cell_type": "markdown",
   "metadata": {},
   "source": [
    "<i>This visualisation aims to find out in which year most movies where released. From the figure, we can conclude that <b>2014</b> saw most movie releases, followed by <b>2013 & 2015.</b></i>"
   ]
  },
  {
   "cell_type": "markdown",
   "metadata": {},
   "source": [
    "<b><h3>Popular Genres</h3></b>"
   ]
  },
  {
   "cell_type": "code",
   "execution_count": 13,
   "metadata": {},
   "outputs": [
    {
     "data": {
      "text/plain": [
       "genre\n",
       "Adventure          1.217868\n",
       "Science Fiction    1.073096\n",
       "Fantasy            0.865390\n",
       "Action             0.836394\n",
       "Animation          0.810370\n",
       "War                0.767041\n",
       "History            0.764636\n",
       "Family             0.730987\n",
       "Romance            0.704157\n",
       "Crime              0.693807\n",
       "Western            0.690646\n",
       "Thriller           0.673381\n",
       "Mystery            0.596896\n",
       "Drama              0.552446\n",
       "Comedy             0.537133\n",
       "Horror             0.468611\n",
       "Music              0.447730\n",
       "TV Movie           0.246190\n",
       "Documentary        0.177023\n",
       "Foreign            0.167124\n",
       "Name: popularity, dtype: float64"
      ]
     },
     "execution_count": 13,
     "metadata": {},
     "output_type": "execute_result"
    }
   ],
   "source": [
    "# mean of popularity for all the genres\n",
    "popular_genre = movie.groupby('genre')['popularity'].mean().sort_values(ascending=False)\n",
    "popular_genre"
   ]
  },
  {
   "cell_type": "markdown",
   "metadata": {},
   "source": [
    "<i>From the analysis <b>Adventure</b> is most popular genre, followed by <b>Sci-fi, Fantasy & Action.</b></i>"
   ]
  },
  {
   "cell_type": "markdown",
   "metadata": {},
   "source": [
    "<b><h3>Movie Genre by Highest/Most Vote Counts</h3></b>"
   ]
  },
  {
   "cell_type": "code",
   "execution_count": 14,
   "metadata": {},
   "outputs": [
    {
     "data": {
      "image/png": "[encoded data removed]",
      "text/plain": [
       "<Figure size 1800x1080 with 1 Axes>"
      ]
     },
     "metadata": {
      "needs_background": "light"
     },
     "output_type": "display_data"
    }
   ],
   "source": [
    "plt.figure(figsize=(25, 15))\n",
    "sns.barplot(x='genre', y='vote_count', data=movie)\n",
    "plt.show()"
   ]
  },
  {
   "cell_type": "markdown",
   "metadata": {},
   "source": [
    "<i>This visualization, shows a barplot of Genre vs Vote Count, to determine which genre has the highest count. From the analysis it is clear that, <b>Adventure</b> genre has the most number of counts followed by <b>Sci-fi, Action & Fantasy.<br> The finding also support our previous analysis of popular genres.</b></i>"
   ]
  },
  {
   "cell_type": "markdown",
   "metadata": {},
   "source": [
    "<b><h3>Popular Keywords</h3></b>"
   ]
  },
  {
   "cell_type": "code",
   "execution_count": 15,
   "metadata": {},
   "outputs": [],
   "source": [
    "# split the keywords\n",
    "split_keyword = movie['keyword'].str.split(',', expand=True)[0]\n",
    "#store in a variable\n",
    "key_word =  movie.groupby('keyword')['popularity'].count().sort_values(ascending=False)\n",
    "# top-10 popular keywords\n",
    "popular_keywords = key_word.head(10)"
   ]
  },
  {
   "cell_type": "code",
   "execution_count": 16,
   "metadata": {},
   "outputs": [
    {
     "data": {
      "image/png": "[encoded data removed]",
      "text/plain": [
       "<Figure size 1080x1080 with 1 Axes>"
      ]
     },
     "metadata": {
      "needs_background": "light"
     },
     "output_type": "display_data"
    }
   ],
   "source": [
    "plt.figure(figsize=(15,15))\n",
    "plt.ylabel('Popularity')\n",
    "popular_keywords.plot(kind='bar', color='g', alpha=0.5)\n",
    "plt.show()"
   ]
  },
  {
   "cell_type": "markdown",
   "metadata": {},
   "source": [
    "<p><i>From the above analysis we can conclude that the popular keywords people use to search a movie are <b>woman director</b> followed by <b>independent film, sport, musical, suspense. Those keywords can be helpful while building a movie recommendation system.</b></i></p>"
   ]
  },
  {
   "cell_type": "markdown",
   "metadata": {},
   "source": [
    "<b><h3>Top-ten movies by Revenue</h3></b>"
   ]
  },
  {
   "cell_type": "code",
   "execution_count": 17,
   "metadata": {},
   "outputs": [
    {
     "data": {
      "text/plain": [
       "original_title\n",
       "Avatar                                          27.815058\n",
       "Star Wars: The Force Awakens                    20.681782\n",
       "Titanic                                         18.450342\n",
       "The Avengers                                    15.680807\n",
       "Jurassic World                                  15.135288\n",
       "Furious 7                                       15.062494\n",
       "Avengers: Age of Ultron                         14.050358\n",
       "Harry Potter and the Deathly Hallows: Part 2    13.278178\n",
       "Frozen                                          12.772849\n",
       "Iron Man 3                                      12.154400\n",
       "Name: revenue_in_billion, dtype: float64"
      ]
     },
     "execution_count": 17,
     "metadata": {},
     "output_type": "execute_result"
    }
   ],
   "source": [
    "# get the revenue of the movies\n",
    "top_movies = movie.groupby('original_title')['revenue_in_billion'].sum().sort_values(ascending=False)\n",
    "top_ten = top_movies.head(10)\n",
    "top_ten"
   ]
  },
  {
   "cell_type": "code",
   "execution_count": 18,
   "metadata": {
    "scrolled": false
   },
   "outputs": [
    {
     "data": {
      "image/png": "[encoded data removed]",
      "text/plain": [
       "<Figure size 1440x1440 with 1 Axes>"
      ]
     },
     "metadata": {
      "needs_background": "light"
     },
     "output_type": "display_data"
    }
   ],
   "source": [
    "plt.figure(figsize=(20,20))\n",
    "plt.ylabel('Revenue in Billion')\n",
    "top_ten.plot(kind='bar', color='r', alpha=0.5)\n",
    "plt.show()"
   ]
  },
  {
   "cell_type": "markdown",
   "metadata": {},
   "source": [
    "<i>This visualisation, shows the analysis of the revenues of the top-ten movies according to the revenue they generated. From the figure above we can conclude that <b>Avatar</b> has the highest revenue, closely followed by <b>Star Wars: The force awakens & Titanic</b></i>"
   ]
  },
  {
   "cell_type": "markdown",
   "metadata": {},
   "source": [
    "<h3>Do Popularity depend on Runtime</h3>"
   ]
  },
  {
   "cell_type": "code",
   "execution_count": 19,
   "metadata": {},
   "outputs": [
    {
     "data": {
      "text/plain": [
       "<Figure size 1440x720 with 0 Axes>"
      ]
     },
     "metadata": {},
     "output_type": "display_data"
    },
    {
     "data": {
      "image/png": "[encoded data removed]",
      "text/plain": [
       "<Figure size 435.375x360 with 1 Axes>"
      ]
     },
     "metadata": {
      "needs_background": "light"
     },
     "output_type": "display_data"
    }
   ],
   "source": [
    "plt.figure(figsize=(20,10))\n",
    "sns.relplot(x='runtime', y='popularity', size=\"runtime\", data=movie)\n",
    "plt.show()"
   ]
  },
  {
   "cell_type": "markdown",
   "metadata": {},
   "source": [
    "<i>In this analysis, we want to see if the runtime of the movie determine the popularity of movie. From the figure above we can see that movies with runtime between <b> 100 & 150 </b> are most popular.</i>"
   ]
  },
  {
   "cell_type": "markdown",
   "metadata": {},
   "source": [
    "<h3>Movie Runtime over the years</h3>"
   ]
  },
  {
   "cell_type": "code",
   "execution_count": 20,
   "metadata": {},
   "outputs": [
    {
     "data": {
      "image/png": "[encoded data removed]",
      "text/plain": [
       "<Figure size 720x720 with 1 Axes>"
      ]
     },
     "metadata": {
      "needs_background": "light"
     },
     "output_type": "display_data"
    }
   ],
   "source": [
    "# get the avg.runtime of movies by the year they were released\n",
    "avg_runtime = movie.groupby('release_year')['runtime'].mean()\n",
    "\n",
    "plt.figure(figsize=(10, 10))\n",
    "plt.xlabel('Years')\n",
    "plt.ylabel('Runtime')\n",
    "plt.plot(avg_runtime)\n",
    "plt.show()"
   ]
  },
  {
   "cell_type": "markdown",
   "metadata": {},
   "source": [
    "<i>The plot shows the average runtime of movies over the years. As we can see the runtime of movies have been reducing, movies released in the <b>1960's had runtime of around 125 minutes.</b> Although there was an increase in runtime in the mid <b>1980's</b>, movies <b>post 2007 have a runtime of less than 100 minutes.</b></i>"
   ]
  },
  {
   "cell_type": "markdown",
   "metadata": {},
   "source": [
    "<h3>Popularity of Big Budget Movies</h3>"
   ]
  },
  {
   "cell_type": "code",
   "execution_count": 21,
   "metadata": {
    "scrolled": false
   },
   "outputs": [
    {
     "data": {
      "text/html": [
       "<div>\n",
       "<style scoped>\n",
       "    .dataframe tbody tr th:only-of-type {\n",
       "        vertical-align: middle;\n",
       "    }\n",
       "\n",
       "    .dataframe tbody tr th {\n",
       "        vertical-align: top;\n",
       "    }\n",
       "\n",
       "    .dataframe thead th {\n",
       "        text-align: right;\n",
       "    }\n",
       "</style>\n",
       "<table border=\"1\" class=\"dataframe\">\n",
       "  <thead>\n",
       "    <tr style=\"text-align: right;\">\n",
       "      <th></th>\n",
       "      <th>popularity</th>\n",
       "      <th>budget_in_billion</th>\n",
       "      <th>revenue_in_billion</th>\n",
       "      <th>original_title</th>\n",
       "      <th>cast</th>\n",
       "      <th>director</th>\n",
       "      <th>keywords</th>\n",
       "      <th>runtime</th>\n",
       "      <th>genres</th>\n",
       "      <th>production_companies</th>\n",
       "      <th>release_date</th>\n",
       "      <th>vote_count</th>\n",
       "      <th>vote_average</th>\n",
       "      <th>release_year</th>\n",
       "      <th>genre</th>\n",
       "      <th>actor</th>\n",
       "      <th>keyword</th>\n",
       "    </tr>\n",
       "  </thead>\n",
       "  <tbody>\n",
       "    <tr>\n",
       "      <th>0</th>\n",
       "      <td>32.985763</td>\n",
       "      <td>1.50</td>\n",
       "      <td>15.135288</td>\n",
       "      <td>Jurassic World</td>\n",
       "      <td>Chris Pratt|Bryce Dallas Howard|Irrfan Khan|Vi...</td>\n",
       "      <td>Colin Trevorrow</td>\n",
       "      <td>monster|dna|tyrannosaurus rex|velociraptor|island</td>\n",
       "      <td>124</td>\n",
       "      <td>Action,Adventure,Science Fiction,Thriller</td>\n",
       "      <td>Universal Studios</td>\n",
       "      <td>6/9/15</td>\n",
       "      <td>5562</td>\n",
       "      <td>6.5</td>\n",
       "      <td>2015</td>\n",
       "      <td>Action</td>\n",
       "      <td>Chris Pratt,Bryce Dallas Howard,Irrfan Khan,Vi...</td>\n",
       "      <td>monster,dna,tyrannosaurus rex,velociraptor,island</td>\n",
       "    </tr>\n",
       "    <tr>\n",
       "      <th>1</th>\n",
       "      <td>28.419936</td>\n",
       "      <td>1.50</td>\n",
       "      <td>3.784364</td>\n",
       "      <td>Mad Max: Fury Road</td>\n",
       "      <td>Tom Hardy|Charlize Theron|Hugh Keays-Byrne|Nic...</td>\n",
       "      <td>George Miller</td>\n",
       "      <td>future|chase|post-apocalyptic|dystopia|australia</td>\n",
       "      <td>120</td>\n",
       "      <td>Action,Adventure,Science Fiction,Thriller</td>\n",
       "      <td>Village Roadshow Pictures</td>\n",
       "      <td>5/13/15</td>\n",
       "      <td>6185</td>\n",
       "      <td>7.1</td>\n",
       "      <td>2015</td>\n",
       "      <td>Action</td>\n",
       "      <td>Tom Hardy,Charlize Theron,Hugh Keays-Byrne,Nic...</td>\n",
       "      <td>future,chase,post-apocalyptic,dystopia,australia</td>\n",
       "    </tr>\n",
       "    <tr>\n",
       "      <th>629</th>\n",
       "      <td>24.949134</td>\n",
       "      <td>1.65</td>\n",
       "      <td>6.217525</td>\n",
       "      <td>Interstellar</td>\n",
       "      <td>Matthew McConaughey|Jessica Chastain|Anne Hath...</td>\n",
       "      <td>Christopher Nolan</td>\n",
       "      <td>saving the world|artificial intelligence|fathe...</td>\n",
       "      <td>169</td>\n",
       "      <td>Adventure,Drama,Science Fiction</td>\n",
       "      <td>Paramount Pictures</td>\n",
       "      <td>11/5/14</td>\n",
       "      <td>6498</td>\n",
       "      <td>8.0</td>\n",
       "      <td>2014</td>\n",
       "      <td>Adventure</td>\n",
       "      <td>Matthew McConaughey,Jessica Chastain,Anne Hath...</td>\n",
       "      <td>saving the world,artificial intelligence,fathe...</td>\n",
       "    </tr>\n",
       "    <tr>\n",
       "      <th>630</th>\n",
       "      <td>14.311205</td>\n",
       "      <td>1.70</td>\n",
       "      <td>7.733124</td>\n",
       "      <td>Guardians of the Galaxy</td>\n",
       "      <td>Chris Pratt|Zoe Saldana|Dave Bautista|Vin Dies...</td>\n",
       "      <td>James Gunn</td>\n",
       "      <td>marvel comic|spaceship|space|scene during end ...</td>\n",
       "      <td>121</td>\n",
       "      <td>Action,Science Fiction,Adventure</td>\n",
       "      <td>Marvel Studios</td>\n",
       "      <td>7/30/14</td>\n",
       "      <td>5612</td>\n",
       "      <td>7.9</td>\n",
       "      <td>2014</td>\n",
       "      <td>Action</td>\n",
       "      <td>Chris Pratt,Zoe Saldana,Dave Bautista,Vin Dies...</td>\n",
       "      <td>marvel comic,spaceship,space,scene during end ...</td>\n",
       "    </tr>\n",
       "    <tr>\n",
       "      <th>2</th>\n",
       "      <td>13.112507</td>\n",
       "      <td>1.10</td>\n",
       "      <td>2.952382</td>\n",
       "      <td>Insurgent</td>\n",
       "      <td>Shailene Woodley|Theo James|Kate Winslet|Ansel...</td>\n",
       "      <td>Robert Schwentke</td>\n",
       "      <td>based on novel|revolution|dystopia|sequel|dyst...</td>\n",
       "      <td>119</td>\n",
       "      <td>Adventure,Science Fiction,Thriller</td>\n",
       "      <td>Summit Entertainment</td>\n",
       "      <td>3/18/15</td>\n",
       "      <td>2480</td>\n",
       "      <td>6.3</td>\n",
       "      <td>2015</td>\n",
       "      <td>Adventure</td>\n",
       "      <td>Shailene Woodley,Theo James,Kate Winslet,Ansel...</td>\n",
       "      <td>based on novel,revolution,dystopia,sequel,dyst...</td>\n",
       "    </tr>\n",
       "  </tbody>\n",
       "</table>\n",
       "</div>"
      ],
      "text/plain": [
       "     popularity  budget_in_billion  revenue_in_billion  \\\n",
       "0     32.985763               1.50           15.135288   \n",
       "1     28.419936               1.50            3.784364   \n",
       "629   24.949134               1.65            6.217525   \n",
       "630   14.311205               1.70            7.733124   \n",
       "2     13.112507               1.10            2.952382   \n",
       "\n",
       "              original_title  \\\n",
       "0             Jurassic World   \n",
       "1         Mad Max: Fury Road   \n",
       "629             Interstellar   \n",
       "630  Guardians of the Galaxy   \n",
       "2                  Insurgent   \n",
       "\n",
       "                                                  cast           director  \\\n",
       "0    Chris Pratt|Bryce Dallas Howard|Irrfan Khan|Vi...    Colin Trevorrow   \n",
       "1    Tom Hardy|Charlize Theron|Hugh Keays-Byrne|Nic...      George Miller   \n",
       "629  Matthew McConaughey|Jessica Chastain|Anne Hath...  Christopher Nolan   \n",
       "630  Chris Pratt|Zoe Saldana|Dave Bautista|Vin Dies...         James Gunn   \n",
       "2    Shailene Woodley|Theo James|Kate Winslet|Ansel...   Robert Schwentke   \n",
       "\n",
       "                                              keywords  runtime  \\\n",
       "0    monster|dna|tyrannosaurus rex|velociraptor|island      124   \n",
       "1     future|chase|post-apocalyptic|dystopia|australia      120   \n",
       "629  saving the world|artificial intelligence|fathe...      169   \n",
       "630  marvel comic|spaceship|space|scene during end ...      121   \n",
       "2    based on novel|revolution|dystopia|sequel|dyst...      119   \n",
       "\n",
       "                                        genres       production_companies  \\\n",
       "0    Action,Adventure,Science Fiction,Thriller          Universal Studios   \n",
       "1    Action,Adventure,Science Fiction,Thriller  Village Roadshow Pictures   \n",
       "629            Adventure,Drama,Science Fiction         Paramount Pictures   \n",
       "630           Action,Science Fiction,Adventure             Marvel Studios   \n",
       "2           Adventure,Science Fiction,Thriller       Summit Entertainment   \n",
       "\n",
       "    release_date  vote_count  vote_average  release_year      genre  \\\n",
       "0         6/9/15        5562           6.5          2015     Action   \n",
       "1        5/13/15        6185           7.1          2015     Action   \n",
       "629      11/5/14        6498           8.0          2014  Adventure   \n",
       "630      7/30/14        5612           7.9          2014     Action   \n",
       "2        3/18/15        2480           6.3          2015  Adventure   \n",
       "\n",
       "                                                 actor  \\\n",
       "0    Chris Pratt,Bryce Dallas Howard,Irrfan Khan,Vi...   \n",
       "1    Tom Hardy,Charlize Theron,Hugh Keays-Byrne,Nic...   \n",
       "629  Matthew McConaughey,Jessica Chastain,Anne Hath...   \n",
       "630  Chris Pratt,Zoe Saldana,Dave Bautista,Vin Dies...   \n",
       "2    Shailene Woodley,Theo James,Kate Winslet,Ansel...   \n",
       "\n",
       "                                               keyword  \n",
       "0    monster,dna,tyrannosaurus rex,velociraptor,island  \n",
       "1     future,chase,post-apocalyptic,dystopia,australia  \n",
       "629  saving the world,artificial intelligence,fathe...  \n",
       "630  marvel comic,spaceship,space,scene during end ...  \n",
       "2    based on novel,revolution,dystopia,sequel,dyst...  "
      ]
     },
     "execution_count": 21,
     "metadata": {},
     "output_type": "execute_result"
    }
   ],
   "source": [
    "# sort movies according to popularity\n",
    "most_popular = movie.sort_values(by=['popularity'], ascending=False).head()\n",
    "most_popular"
   ]
  },
  {
   "cell_type": "code",
   "execution_count": 22,
   "metadata": {},
   "outputs": [],
   "source": [
    "# get budget for those movies\n",
    "mp_budget = most_popular.groupby('original_title')['budget_in_billion'].sum()"
   ]
  },
  {
   "cell_type": "code",
   "execution_count": 23,
   "metadata": {},
   "outputs": [
    {
     "data": {
      "image/png": "[encoded data removed]",
      "text/plain": [
       "<Figure size 720x720 with 1 Axes>"
      ]
     },
     "metadata": {
      "needs_background": "light"
     },
     "output_type": "display_data"
    }
   ],
   "source": [
    "plt.figure(figsize=(10,10))\n",
    "plt.ylabel('Budget in Billion')\n",
    "mp_budget.plot(kind='bar', color='#ff5733', alpha=0.5)\n",
    "plt.show()"
   ]
  },
  {
   "cell_type": "markdown",
   "metadata": {},
   "source": [
    "<i>From the above analysis we can conclude that big budget movies tend to be most popular among audience</i>"
   ]
  },
  {
   "cell_type": "markdown",
   "metadata": {},
   "source": [
    "<h3>Popular Actors</h3>"
   ]
  },
  {
   "cell_type": "code",
   "execution_count": 24,
   "metadata": {},
   "outputs": [
    {
     "data": {
      "text/plain": [
       "Nicolas Cage             50\n",
       "Robert De Niro           42\n",
       "Bruce Willis             39\n",
       "Clint Eastwood           38\n",
       "Johnny Depp              37\n",
       "Sylvester Stallone       37\n",
       "Tom Hanks                37\n",
       "Jean-Claude Van Damme    35\n",
       "Steven Seagal            35\n",
       "Denzel Washington        33\n",
       "Name: 0, dtype: int64"
      ]
     },
     "execution_count": 24,
     "metadata": {},
     "output_type": "execute_result"
    }
   ],
   "source": [
    "actor = movie['actor'].str.split(',', expand=True)[0]\n",
    "actor.value_counts().sort_values(ascending=False).head(10)"
   ]
  },
  {
   "cell_type": "markdown",
   "metadata": {},
   "source": [
    "<i>From the above analysis we can conclude that popular actors are <b>Nicolas Cage</b> followed by <b>Robert De Niro & Bruce Willis.</b></i>"
   ]
  },
  {
   "cell_type": "markdown",
   "metadata": {},
   "source": [
    "<h3>Conclusion</h3>"
   ]
  },
  {
   "cell_type": "markdown",
   "metadata": {},
   "source": [
    "From all the analysis made on the Movies and their Genre, Runtime, Popularity, Budget, Actors. The conclusion can be made as-\n",
    "\n",
    "Movies tend make revenues based on: Genre, Runtime, Popularity, Actors(lead role)\n",
    "\n",
    "So from the given data, movies with Genre like Adventure,Science Fiction,Action and Fantasy, based on the popularity and the run time, the actors in the movies; a movie can make a great ROI."
   ]
  }
 ],
 "metadata": {
  "kernelspec": {
   "display_name": "Python 3",
   "language": "python",
   "name": "python3"
  },
  "language_info": {
   "codemirror_mode": {
    "name": "ipython",
    "version": 3
   },
   "file_extension": ".py",
   "mimetype": "text/x-python",
   "name": "python",
   "nbconvert_exporter": "python",
   "pygments_lexer": "ipython3",
   "version": "3.7.3"
  }
 },
 "nbformat": 4,
 "nbformat_minor": 2
}
