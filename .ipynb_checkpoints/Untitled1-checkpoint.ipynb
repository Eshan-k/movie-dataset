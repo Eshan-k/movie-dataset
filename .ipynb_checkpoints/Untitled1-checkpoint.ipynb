{
 "cells": [
  {
   "cell_type": "markdown",
   "metadata": {},
   "source": [
    "<h3>Project: Investigate a Dataset (TMDb_Movies Dataset)</h3>\n",
    "\n",
    "This data set contains information about 10,000 movies collected from The Movie Database (TMDb), including user ratings, budget, cast and revenue.\n",
    "  \n",
    "For the dataset, i would like to pose the following questions\n",
    "<b><h2>Questions</h2></b>\n",
    "<ol>\n",
    "    <li>Movie Genre by Highest/Most Vote Counts</li>\n",
    "    <li>Year in which most movies were released</li>\n",
    "    <li>Revenue of 1st Top-ten movies</li>\n",
    "    <li>Do Popularity depend on Runtime</li>\n",
    "    <li>Movie Runtime over the years</li>\n",
    "    <li>Popular Actors</li>\n",
    "</ol>"
   ]
  },
  {
   "cell_type": "code",
   "execution_count": null,
   "metadata": {},
   "outputs": [],
   "source": []
  },
  {
   "cell_type": "code",
   "execution_count": null,
   "metadata": {},
   "outputs": [],
   "source": []
  }
 ],
 "metadata": {
  "kernelspec": {
   "display_name": "Python 3",
   "language": "python",
   "name": "python3"
  },
  "language_info": {
   "codemirror_mode": {
    "name": "ipython",
    "version": 3
   },
   "file_extension": ".py",
   "mimetype": "text/x-python",
   "name": "python",
   "nbconvert_exporter": "python",
   "pygments_lexer": "ipython3",
   "version": "3.7.3"
  }
 },
 "nbformat": 4,
 "nbformat_minor": 2
}
